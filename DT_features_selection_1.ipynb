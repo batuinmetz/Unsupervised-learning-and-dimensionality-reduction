{
 "cells": [
  {
   "cell_type": "code",
   "execution_count": 9,
   "id": "a7eb9f64-02a8-48c7-91bf-fed626a0adce",
   "metadata": {},
   "outputs": [
    {
     "name": "stdout",
     "output_type": "stream",
     "text": [
      "Feature importance by sklearn: {'age': 0.538, 'hypertension': 0.0, 'heart_disease': 0.075, 'ever_married': 0.022, 'work_type': 0.0, 'Residence_type': 0.0, 'avg_glucose_level': 0.164, 'bmi': 0.172, 'smoking_status': 0.03}\n",
      "The accuracy is:  94.24749163879599 %\n",
      "Execution time in seconds: 0.01895594596862793\n"
     ]
    }
   ],
   "source": [
    "import numpy as np\n",
    "import pandas as pd\n",
    "import matplotlib.pyplot as plt\n",
    "import seaborn as sns\n",
    "from sklearn import metrics\n",
    "from sklearn.model_selection import cross_val_score\n",
    "from sklearn.model_selection import train_test_split\n",
    "from sklearn.model_selection import validation_curve\n",
    "from sklearn.model_selection import learning_curve\n",
    "from sklearn.tree import DecisionTreeClassifier\n",
    "from sklearn.metrics import accuracy_score\n",
    "from sklearn import tree\n",
    "from sklearn.preprocessing import MinMaxScaler\n",
    "\n",
    "#getting the data set\n",
    "data=pd.read_csv('brain_stroke.csv',index_col=0)\n",
    "data.head(-5)\n",
    "#print(data)\n",
    "\n",
    "#checking the missing rows\n",
    "#print(data.isna().sum())\n",
    "#checking the type of each rows\n",
    "#data.info()\n",
    "\n",
    "\n",
    "\n",
    "# Importing LabelEncoder\n",
    "from sklearn.preprocessing import LabelEncoder\n",
    "# Instantiating LabelEncoder\n",
    "le=LabelEncoder()\n",
    "# Iterating over all the values of each column and extract their dtypes\n",
    "for col in data.columns.to_numpy():\n",
    "    # Comparing if the dtype is object\n",
    "    if data[col].dtypes in ('object','category'):\n",
    "    # Using LabelEncoder to do the numeric transformation\n",
    "        data[col]=le.fit_transform(data[col].astype(str))\n",
    "\n",
    "#establishing the training set and the test set\n",
    "x=data.drop([\"stroke\"],axis=1)\n",
    "y=data[\"stroke\"]\n",
    "x_train,x_test,y_train,y_test=train_test_split(x,y,test_size=0.3,random_state=42,stratify=y)\n",
    "x_train.shape, x_test.shape\n",
    "\n",
    "# Normalize feature data\n",
    "scaler = MinMaxScaler()\n",
    "\n",
    "x_train_scaled = scaler.fit_transform(x_train)\n",
    "x_test_scaled = scaler.transform(x_test)\n",
    "\n",
    "# Saving the feature names \n",
    "features = x.columns.tolist()\n",
    "\n",
    "import time\n",
    "startTime = time.time()\n",
    "##Decision tree\n",
    "dt=DecisionTreeClassifier(max_depth=5,random_state=42,criterion=\"gini\",splitter=\"best\",min_samples_split=10,max_leaf_nodes=15)\n",
    "dt.fit(x_train,y_train)\n",
    "\n",
    "\n",
    "# Extracting the importances by sklearn \n",
    "importances_sk = dt.feature_importances_\n",
    "feature_importance_sk = {}\n",
    "for i, feature in enumerate(features):\n",
    "    feature_importance_sk[feature] = round(importances_sk[i], 3)\n",
    "    \n",
    "print(f\"Feature importance by sklearn: {feature_importance_sk}\")\n",
    "\n",
    "\n",
    "\n",
    "#Evaluate the accuracy of the model\n",
    "y_pred = dt.predict(x_test)\n",
    "predictions = metrics.accuracy_score(y_test, y_pred)\n",
    "#Calculating the accuracy in percentage\n",
    "print('The accuracy is: ', predictions * 100, '%')\n",
    "executionTime = (time.time() - startTime)\n",
    "print('Execution time in seconds: ' + str(executionTime))"
   ]
  },
  {
   "cell_type": "code",
   "execution_count": 10,
   "id": "2416797d-3e51-45d0-a230-392e606475a4",
   "metadata": {},
   "outputs": [
    {
     "name": "stdout",
     "output_type": "stream",
     "text": [
      "         age  heart_disease  avg_glucose_level   bmi\n",
      "gender                                              \n",
      "Male    67.0              1             228.69  36.6\n",
      "Male    80.0              1             105.92  32.5\n",
      "Female  49.0              0             171.23  34.4\n",
      "Female  79.0              0             174.12  24.0\n",
      "Male    81.0              0             186.21  29.0\n",
      "...      ...            ...                ...   ...\n",
      "Male    41.0              0              70.15  29.8\n",
      "Male    40.0              0             191.15  31.1\n",
      "Female  45.0              0              95.02  31.8\n",
      "Male    40.0              0              83.94  30.0\n",
      "Female  80.0              0              83.75  29.1\n",
      "\n",
      "[4981 rows x 4 columns]\n"
     ]
    },
    {
     "data": {
      "text/plain": [
       "((3486, 4), (1495, 4))"
      ]
     },
     "execution_count": 10,
     "metadata": {},
     "output_type": "execute_result"
    }
   ],
   "source": [
    "#creating reduced vectors\n",
    "x=data.drop(columns=['stroke', 'hypertension','work_type','Residence_type','ever_married','smoking_status'])\n",
    "y=data[\"stroke\"]\n",
    "print(x)\n",
    "x_train,x_test,y_train,y_test=train_test_split(x,y,test_size=0.3,random_state=42,stratify=y)\n",
    "x_train.shape, x_test.shape"
   ]
  },
  {
   "cell_type": "code",
   "execution_count": 14,
   "id": "8df25dc5-dd03-402d-99ad-57a02d1f21c8",
   "metadata": {},
   "outputs": [
    {
     "name": "stdout",
     "output_type": "stream",
     "text": [
      "The accuracy is:  94.11371237458194 %\n",
      "Execution time in seconds: 0.015624761581420898\n"
     ]
    }
   ],
   "source": [
    "import time\n",
    "startTime = time.time()\n",
    "##Decision tree\n",
    "dt=DecisionTreeClassifier(max_depth=5,random_state=42,criterion=\"gini\",splitter=\"best\",min_samples_split=10,max_leaf_nodes=15)\n",
    "dt.fit(x_train,y_train)\n",
    "\n",
    "#Evaluate the accuracy of the model\n",
    "y_pred = dt.predict(x_test)\n",
    "predictions = metrics.accuracy_score(y_test, y_pred)\n",
    "#Calculating the accuracy in percentage\n",
    "print('The accuracy is: ', predictions * 100, '%')\n",
    "executionTime = (time.time() - startTime)\n",
    "print('Execution time in seconds: ' + str(executionTime))"
   ]
  },
  {
   "cell_type": "code",
   "execution_count": null,
   "id": "71f42a32-4ab3-44aa-810e-2367aa0e340e",
   "metadata": {},
   "outputs": [],
   "source": []
  }
 ],
 "metadata": {
  "kernelspec": {
   "display_name": "Python 3 (ipykernel)",
   "language": "python",
   "name": "python3"
  },
  "language_info": {
   "codemirror_mode": {
    "name": "ipython",
    "version": 3
   },
   "file_extension": ".py",
   "mimetype": "text/x-python",
   "name": "python",
   "nbconvert_exporter": "python",
   "pygments_lexer": "ipython3",
   "version": "3.9.12"
  }
 },
 "nbformat": 4,
 "nbformat_minor": 5
}
