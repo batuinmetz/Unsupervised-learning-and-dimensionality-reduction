{
 "cells": [
  {
   "cell_type": "code",
   "execution_count": 1,
   "id": "9b6d9cef-c1e6-4124-8e7b-9900f56f588e",
   "metadata": {},
   "outputs": [
    {
     "name": "stdout",
     "output_type": "stream",
     "text": [
      "[[ 1.73077617 -1.40644054 -0.73886662 -0.31500363 -0.59196371]\n",
      " [ 1.36016549 -0.35395442 -0.20557    -0.23942511 -0.82905261]\n",
      " [ 1.04336988 -1.06252882 -1.5868067  -0.48317313 -0.43710745]\n",
      " ...\n",
      " [ 0.83626876 -0.1027891  -1.48952423 -0.8910645  -1.47655432]\n",
      " [ 0.79581341 -0.15934337 -0.81317697 -0.35136185 -0.48618967]\n",
      " [ 0.79825103 -1.05446406 -2.10971245 -0.37105077 -1.0164109 ]]\n"
     ]
    }
   ],
   "source": [
    "import numpy as np\n",
    "import pandas as pd\n",
    "import matplotlib.pyplot as plt\n",
    "from sklearn import metrics\n",
    "from sklearn.mixture import GaussianMixture\n",
    "from sklearn.metrics import silhouette_samples, silhouette_score\n",
    "import matplotlib.cm as cm\n",
    "import itertools\n",
    "from scipy import linalg\n",
    "import matplotlib as mpl\n",
    "from sklearn import mixture\n",
    "from sklearn.preprocessing import MinMaxScaler\n",
    "from sklearn.random_projection import GaussianRandomProjection\n",
    "from math import sqrt\n",
    "\n",
    "#getting the data set\n",
    "data=pd.read_csv('brain_stroke.csv',index_col=0)\n",
    "data.head(-5)\n",
    "#print(data)\n",
    "#print(data.isna().sum())\n",
    "#print(data.info())\n",
    "\n",
    "# Importing LabelEncoder\n",
    "from sklearn.preprocessing import LabelEncoder\n",
    "# Instantiating LabelEncoder\n",
    "le=LabelEncoder()\n",
    "# Iterating over all the values of each column and extract their dtypes\n",
    "for col in data.columns.to_numpy():\n",
    "    # Comparing if the dtype is object\n",
    "    if data[col].dtypes in ('object','category'):\n",
    "    # Using LabelEncoder to do the numeric transformation\n",
    "        data[col]=le.fit_transform(data[col].astype(str))\n",
    "\n",
    "\n",
    "#establishing the training set and the test set\n",
    "X=data.drop([\"stroke\"],axis=1)\n",
    "y=data[\"stroke\"]\n",
    "\n",
    "scaler = MinMaxScaler()\n",
    "X= scaler.fit_transform(X)\n",
    "\n",
    "rca = GaussianRandomProjection(n_components=5, random_state=42).fit(X)\n",
    "X_red=rca.transform(X)\n",
    "print(X_red)"
   ]
  },
  {
   "cell_type": "code",
   "execution_count": 2,
   "id": "e07474eb-f76c-415b-b973-4776acc124cb",
   "metadata": {},
   "outputs": [
    {
     "data": {
      "image/png": "[encoded data removed]",
      "text/plain": [
       "<Figure size 576x432 with 1 Axes>"
      ]
     },
     "metadata": {},
     "output_type": "display_data"
    },
    {
     "data": {
      "image/png": "[encoded data removed]",
      "text/plain": [
       "<Figure size 432x288 with 1 Axes>"
      ]
     },
     "metadata": {
      "needs_background": "light"
     },
     "output_type": "display_data"
    }
   ],
   "source": [
    "X=X_red\n",
    "lowest_bic = np.infty\n",
    "bic = []\n",
    "n_components_range = range(1, 8)\n",
    "cv_types = [\"spherical\", \"tied\", \"diag\", \"full\"]\n",
    "for cv_type in cv_types:\n",
    "    for n_components in n_components_range:\n",
    "        # Fit a Gaussian mixture with EM\n",
    "        gmm = mixture.GaussianMixture(\n",
    "            n_components=n_components, covariance_type=cv_type,random_state=42\n",
    "        )\n",
    "        gmm.fit(X)\n",
    "        bic.append(gmm.bic(X))\n",
    "        if bic[-1] < lowest_bic:\n",
    "            lowest_bic = bic[-1]\n",
    "            best_gmm = gmm\n",
    "\n",
    "bic = np.array(bic)\n",
    "color_iter = itertools.cycle([\"navy\", \"turquoise\", \"cornflowerblue\", \"darkorange\"])\n",
    "clf = best_gmm\n",
    "bars = []\n",
    "\n",
    "# Plot the BIC scores\n",
    "plt.figure(figsize=(8, 6))\n",
    "spl = plt.subplot(2, 1, 1)\n",
    "for i, (cv_type, color) in enumerate(zip(cv_types, color_iter)):\n",
    "    xpos = np.array(n_components_range) + 0.2 * (i - 2)\n",
    "    bars.append(\n",
    "        plt.bar(\n",
    "            xpos,\n",
    "            bic[i * len(n_components_range) : (i + 1) * len(n_components_range)],\n",
    "            width=0.2,\n",
    "            color=color,\n",
    "        )\n",
    "    )\n",
    "plt.xticks(n_components_range)\n",
    "plt.ylim([bic.min() * 1.01 - 0.01 * bic.max(), bic.max()])\n",
    "plt.title(\"BIC score per model\")\n",
    "xpos = (\n",
    "    np.mod(bic.argmin(), len(n_components_range))\n",
    "    + 0.65\n",
    "    + 0.2 * np.floor(bic.argmin() / len(n_components_range))\n",
    ")\n",
    "plt.text(xpos, bic.min() * 0.97 + 0.03 * bic.max(), \"*\", fontsize=14)\n",
    "spl.set_xlabel(\"Number of components\")\n",
    "spl.legend([b[0] for b in bars], cv_types)\n",
    "'''\n",
    "# Plot the winner\n",
    "splot = plt.subplot(2, 1, 2)\n",
    "Y_ = clf.predict(X)\n",
    "for i, (mean, cov, color) in enumerate(zip(clf.means_, clf.covariances_, color_iter)):\n",
    "    v, w = linalg.eigh(cov)\n",
    "    if not np.any(Y_ == i):\n",
    "        continue\n",
    "    plt.scatter(X[Y_ == i, 0], X[Y_ == i, 1], 0.8, color=color)\n",
    "\n",
    "    # Plot an ellipse to show the Gaussian component\n",
    "    angle = np.arctan2(w[0][1], w[0][0])\n",
    "    angle = 180.0 * angle / np.pi  # convert to degrees\n",
    "    v = 2.0 * np.sqrt(2.0) * np.sqrt(v)\n",
    "    ell = mpl.patches.Ellipse(mean, v[0], v[1], 180.0 + angle, color=color)\n",
    "    ell.set_clip_box(splot.bbox)\n",
    "    ell.set_alpha(0.5)\n",
    "    splot.add_artist(ell)\n",
    "'''\n",
    "plt.xticks(())\n",
    "plt.yticks(())\n",
    "plt.title(\n",
    "    f\"Selected GMM: {best_gmm.covariance_type} model, \"\n",
    "    f\"{best_gmm.n_components} components\"\n",
    ")\n",
    "plt.subplots_adjust(hspace=0.35, bottom=0.02)\n",
    "plt.show()\n",
    "\n",
    "'''\n",
    "metrics.v_measure_score(labels_true, labels_pred)\n",
    "'''\n",
    "labels_true=y\n",
    "v_measure_list=[]\n",
    "for k in range(1,10):\n",
    "    clusterer = mixture.GaussianMixture(n_components=k, covariance_type=\"spherical\",random_state=42)\n",
    "    labels_pred = clusterer.fit_predict(X)\n",
    "    score=metrics.v_measure_score(labels_true, clusterer.predict(X))\n",
    "    v_measure_list.append(score)\n",
    "\n",
    "k_clusters=[k for k in range(1,10)]\n",
    "fig, ax1=plt.subplots()\n",
    "ax1.plot(k_clusters, v_measure_list,label=\"v_measure\")\n",
    "ax1.set_title('V_measure results on GaussianMixture with EM')\n",
    "ax1.set_xlabel('k number of components')\n",
    "ax1.set_ylabel('V_measure score')\n",
    "ax1.legend()\n",
    "plt.show()"
   ]
  },
  {
   "cell_type": "code",
   "execution_count": null,
   "id": "acd07901-65da-4923-8134-c952b2b28936",
   "metadata": {},
   "outputs": [],
   "source": []
  }
 ],
 "metadata": {
  "kernelspec": {
   "display_name": "Python 3 (ipykernel)",
   "language": "python",
   "name": "python3"
  },
  "language_info": {
   "codemirror_mode": {
    "name": "ipython",
    "version": 3
   },
   "file_extension": ".py",
   "mimetype": "text/x-python",
   "name": "python",
   "nbconvert_exporter": "python",
   "pygments_lexer": "ipython3",
   "version": "3.9.12"
  }
 },
 "nbformat": 4,
 "nbformat_minor": 5
}
