{
 "cells": [
  {
   "cell_type": "code",
   "execution_count": 70,
   "id": "ea2630e7-d1e7-4c2d-b308-341af7668dd3",
   "metadata": {},
   "outputs": [
    {
     "data": {
      "image/png": "[encoded data removed]",
      "text/plain": [
       "<Figure size 432x288 with 1 Axes>"
      ]
     },
     "metadata": {
      "needs_background": "light"
     },
     "output_type": "display_data"
    },
    {
     "name": "stdout",
     "output_type": "stream",
     "text": [
      "5.013832913403267\n",
      "[ 8.46945153 15.96316489  1.57989083  4.3253553   1.74617661  2.25073999\n",
      "  1.0015929   4.77429126]\n"
     ]
    },
    {
     "name": "stderr",
     "output_type": "stream",
     "text": [
      "C:\\Users\\Batuhan\\anaconda3\\lib\\site-packages\\sklearn\\decomposition\\_fastica.py:116: ConvergenceWarning: FastICA did not converge. Consider increasing tolerance or the maximum number of iterations.\n",
      "  warnings.warn(\n"
     ]
    }
   ],
   "source": [
    "import numpy as np\n",
    "import pandas as pd\n",
    "import matplotlib.pyplot as plt\n",
    "from sklearn import metrics\n",
    "import matplotlib.cm as cm\n",
    "import itertools\n",
    "from scipy import linalg\n",
    "import matplotlib as mpl\n",
    "from sklearn import mixture\n",
    "from sklearn.decomposition import FastICA\n",
    "from sklearn.preprocessing import MinMaxScaler\n",
    "from scipy.stats import kurtosis\n",
    "\n",
    "#getting the data set\n",
    "data=pd.read_csv('brain_stroke.csv',index_col=0)\n",
    "data.head(-5)\n",
    "#print(data)\n",
    "#print(data.isna().sum())\n",
    "#print(data.info())\n",
    "\n",
    "# Importing LabelEncoder\n",
    "from sklearn.preprocessing import LabelEncoder\n",
    "# Instantiating LabelEncoder\n",
    "le=LabelEncoder()\n",
    "# Iterating over all the values of each column and extract their dtypes\n",
    "for col in data.columns.to_numpy():\n",
    "    # Comparing if the dtype is object\n",
    "    if data[col].dtypes in ('object','category'):\n",
    "    # Using LabelEncoder to do the numeric transformation\n",
    "        data[col]=le.fit_transform(data[col].astype(str))\n",
    "\n",
    "\n",
    "#establishing the training set and the test set\n",
    "X=data.drop([\"stroke\"],axis=1)\n",
    "y=data[\"stroke\"]\n",
    "\n",
    "scaler = MinMaxScaler()\n",
    "X= scaler.fit_transform(X)\n",
    "\n",
    "#take number of features equal to number of components\n",
    "kurtosis_list=[]\n",
    "for n in range(1,10):\n",
    "    ica = FastICA(n_components=n, random_state=42,max_iter=800).fit(X)\n",
    "    X_red=ica.transform(X)\n",
    "    #print(X_red)\n",
    "    mean=np.mean(kurtosis(X_red, fisher=False))\n",
    "    kurtosis_list.append(mean)\n",
    "    \n",
    "n=[k for k in range(1,10)]\n",
    "fig, ax1=plt.subplots()\n",
    "ax1.plot(n, kurtosis_list,label=\"mean kurtosis\")\n",
    "ax1.set_title('Mean Kurtosis depending on n_components')\n",
    "ax1.set_xlabel('Number of components')\n",
    "ax1.set_ylabel('Mean Kurtosis')\n",
    "ax1.legend()\n",
    "ax1.grid()\n",
    "plt.show()\n",
    "\n",
    "#picking the n_components which maximize the mean given a threshold of 4.6\n",
    "ica = FastICA(n_components=8, random_state=42,max_iter=300).fit(X)\n",
    "X_red=ica.transform(X)\n",
    "mean=np.mean(kurtosis(X_red, fisher=False))\n",
    "print(mean)\n",
    "print(kurtosis(X_red, fisher=False))"
   ]
  },
  {
   "cell_type": "code",
   "execution_count": 72,
   "id": "ccaf426e-cfe3-4ecb-a84b-7bad5c34eba3",
   "metadata": {},
   "outputs": [
    {
     "name": "stdout",
     "output_type": "stream",
     "text": [
      "[[-0.00889903 -0.05879075  0.00033509 ...  0.00629837  0.01385215\n",
      "   0.03142109]\n",
      " [-0.00894837 -0.0583189   0.00800983 ... -0.00026124 -0.0145524\n",
      "  -0.00626361]\n",
      " [-0.00468755  0.00325276  0.00408967 ... -0.00351345  0.01399893\n",
      "   0.02289346]\n",
      " ...\n",
      " [ 0.04340159  0.00494272 -0.00020729 ...  0.01424478 -0.01396588\n",
      "  -0.0132395 ]\n",
      " [-0.00477776  0.00370031  0.00777345 ... -0.00501379 -0.01428212\n",
      "  -0.00603223]\n",
      " [ 0.04405384  0.00449196  0.00802067 ... -0.00230905  0.01395112\n",
      "  -0.0130089 ]]\n",
      "[[-0.00889903 -0.05879075  0.00936388  0.03142109]\n",
      " [-0.00894837 -0.0583189  -0.01025453 -0.00626361]\n",
      " [-0.00468755  0.00325276  0.01014393  0.02289346]\n",
      " ...\n",
      " [ 0.04340159  0.00494272  0.02047231 -0.0132395 ]\n",
      " [-0.00477776  0.00370031  0.01227554 -0.00603223]\n",
      " [ 0.04405384  0.00449196 -0.01588717 -0.0130089 ]]\n"
     ]
    }
   ],
   "source": [
    "print(X_red)\n",
    "X_red_new=np.array([X_red[:,0],X_red[:,1],X_red[:,3],X_red[:,7]])\n",
    "X_red_new=np.transpose(X_red_new)\n",
    "print(X_red_new)"
   ]
  },
  {
   "cell_type": "code",
   "execution_count": null,
   "id": "2aaa4ebd-339d-4d2c-b9e7-6f7d0c760423",
   "metadata": {},
   "outputs": [],
   "source": []
  }
 ],
 "metadata": {
  "kernelspec": {
   "display_name": "Python 3 (ipykernel)",
   "language": "python",
   "name": "python3"
  },
  "language_info": {
   "codemirror_mode": {
    "name": "ipython",
    "version": 3
   },
   "file_extension": ".py",
   "mimetype": "text/x-python",
   "name": "python",
   "nbconvert_exporter": "python",
   "pygments_lexer": "ipython3",
   "version": "3.9.12"
  }
 },
 "nbformat": 4,
 "nbformat_minor": 5
}
