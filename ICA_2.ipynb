{
 "cells": [
  {
   "cell_type": "code",
   "execution_count": 8,
   "id": "df1397c5-97aa-4ce7-83fc-0f4e25c5a98b",
   "metadata": {},
   "outputs": [
    {
     "name": "stderr",
     "output_type": "stream",
     "text": [
      "C:\\Users\\Batuhan\\anaconda3\\lib\\site-packages\\sklearn\\decomposition\\_fastica.py:494: FutureWarning: Starting in v1.3, whiten='unit-variance' will be used by default.\n",
      "  warnings.warn(\n",
      "C:\\Users\\Batuhan\\anaconda3\\lib\\site-packages\\sklearn\\decomposition\\_fastica.py:494: FutureWarning: Starting in v1.3, whiten='unit-variance' will be used by default.\n",
      "  warnings.warn(\n",
      "C:\\Users\\Batuhan\\anaconda3\\lib\\site-packages\\sklearn\\decomposition\\_fastica.py:494: FutureWarning: Starting in v1.3, whiten='unit-variance' will be used by default.\n",
      "  warnings.warn(\n",
      "C:\\Users\\Batuhan\\anaconda3\\lib\\site-packages\\sklearn\\decomposition\\_fastica.py:494: FutureWarning: Starting in v1.3, whiten='unit-variance' will be used by default.\n",
      "  warnings.warn(\n",
      "C:\\Users\\Batuhan\\anaconda3\\lib\\site-packages\\sklearn\\decomposition\\_fastica.py:494: FutureWarning: Starting in v1.3, whiten='unit-variance' will be used by default.\n",
      "  warnings.warn(\n",
      "C:\\Users\\Batuhan\\anaconda3\\lib\\site-packages\\sklearn\\decomposition\\_fastica.py:494: FutureWarning: Starting in v1.3, whiten='unit-variance' will be used by default.\n",
      "  warnings.warn(\n",
      "C:\\Users\\Batuhan\\anaconda3\\lib\\site-packages\\sklearn\\decomposition\\_fastica.py:494: FutureWarning: Starting in v1.3, whiten='unit-variance' will be used by default.\n",
      "  warnings.warn(\n",
      "C:\\Users\\Batuhan\\anaconda3\\lib\\site-packages\\sklearn\\decomposition\\_fastica.py:494: FutureWarning: Starting in v1.3, whiten='unit-variance' will be used by default.\n",
      "  warnings.warn(\n",
      "C:\\Users\\Batuhan\\anaconda3\\lib\\site-packages\\sklearn\\decomposition\\_fastica.py:494: FutureWarning: Starting in v1.3, whiten='unit-variance' will be used by default.\n",
      "  warnings.warn(\n"
     ]
    },
    {
     "data": {
      "image/png": "[encoded data removed]",
      "text/plain": [
       "<Figure size 432x288 with 1 Axes>"
      ]
     },
     "metadata": {
      "needs_background": "light"
     },
     "output_type": "display_data"
    },
    {
     "name": "stdout",
     "output_type": "stream",
     "text": [
      "3.2885876349845846\n",
      "[2.21778319 3.27848671 4.86321501 9.68143702 2.24715126 1.59083823\n",
      " 2.13047064 1.80439681 1.78350983]\n"
     ]
    },
    {
     "name": "stderr",
     "output_type": "stream",
     "text": [
      "C:\\Users\\Batuhan\\anaconda3\\lib\\site-packages\\sklearn\\decomposition\\_fastica.py:494: FutureWarning: Starting in v1.3, whiten='unit-variance' will be used by default.\n",
      "  warnings.warn(\n"
     ]
    }
   ],
   "source": [
    "import numpy as np\n",
    "import pandas as pd\n",
    "import matplotlib.pyplot as plt\n",
    "from sklearn import metrics\n",
    "import matplotlib.cm as cm\n",
    "import itertools\n",
    "from scipy import linalg\n",
    "import matplotlib as mpl\n",
    "from sklearn import mixture\n",
    "from sklearn.decomposition import FastICA\n",
    "from sklearn.preprocessing import MinMaxScaler\n",
    "from scipy.stats import kurtosis\n",
    "\n",
    "##data loaded\n",
    "data=pd.read_csv('chocolate_bars.csv',index_col=0)\n",
    "data.head(-5)\n",
    "##filing the missing datas\n",
    "#filling the missing tables with the most common ingredients\n",
    "data['ingredients'].fillna(data['ingredients'].mode()[0], inplace=True)\n",
    "data['num_ingredients'].fillna(data['num_ingredients'].mode()[0], inplace=True)\n",
    "#print(data)\n",
    "\n",
    "# Importing LabelEncoder\n",
    "from sklearn.preprocessing import LabelEncoder\n",
    "# Instantiating LabelEncoder\n",
    "le=LabelEncoder()\n",
    "# Iterating over all the values of each column and extract their dtypes\n",
    "for col in data.columns.to_numpy():\n",
    "    # Comparing if the dtype is object\n",
    "    if data[col].dtypes in ('object','category'):\n",
    "    # Using LabelEncoder to do the numeric transformation\n",
    "        data[col]=le.fit_transform(data[col].astype(str))\n",
    "        \n",
    "#Binning the rating column\n",
    "cut_labels = ['really bad', 'bad', 'ok', 'good']\n",
    "cut_bins = [0, 0.99,1.99,2.99,4.0]\n",
    "data['rating'] = pd.cut(data['rating'], bins=cut_bins, labels=cut_labels)\n",
    "\n",
    "\n",
    "#creating the testing and training variables\n",
    "X=data.drop(\"rating\",axis=1)\n",
    "y=data[\"rating\"]\n",
    "\n",
    "# Normalize feature data\n",
    "scaler = MinMaxScaler()\n",
    "X= scaler.fit_transform(X)\n",
    "\n",
    "\n",
    "#take number of features equal to number of components\n",
    "kurtosis_list=[]\n",
    "for n in range(1,10):\n",
    "    ica = FastICA(n_components=n, random_state=42,max_iter=800).fit(X)\n",
    "    X_red=ica.transform(X)\n",
    "    #print(X_red)\n",
    "    mean=np.mean(kurtosis(X_red, fisher=False))\n",
    "    kurtosis_list.append(mean)\n",
    "    \n",
    "n=[k for k in range(1,10)]\n",
    "fig, ax1=plt.subplots()\n",
    "ax1.plot(n, kurtosis_list,label=\"mean kurtosis\")\n",
    "ax1.set_title('Mean Kurtosis depending on n_components')\n",
    "ax1.set_xlabel('Number of components')\n",
    "ax1.set_ylabel('Mean Kurtosis')\n",
    "ax1.legend()\n",
    "ax1.grid()\n",
    "plt.show()\n",
    "\n",
    "#picking the n_components which maximize the mean given a threshold of 4.6\n",
    "ica = FastICA(n_components=9, random_state=42,max_iter=300).fit(X)\n",
    "X_red=ica.transform(X)\n",
    "mean=np.mean(kurtosis(X_red, fisher=False))\n",
    "print(mean)\n",
    "print(kurtosis(X_red, fisher=False))"
   ]
  },
  {
   "cell_type": "code",
   "execution_count": 9,
   "id": "589858d2-fc69-47bf-9943-e1b05a7d0793",
   "metadata": {},
   "outputs": [
    {
     "name": "stdout",
     "output_type": "stream",
     "text": [
      "[[ 0.02275572 -0.01991469  0.00666103 ... -0.01893619 -0.03215981\n",
      "  -0.01620989]\n",
      " [ 0.02178885  0.0405121   0.00669636 ... -0.01740498 -0.03279274\n",
      "   0.02294613]\n",
      " [ 0.02660223 -0.01833839  0.00862678 ... -0.0189533  -0.03129629\n",
      "   0.0232478 ]\n",
      " ...\n",
      " [ 0.02377262  0.01136821  0.01389023 ... -0.00818702  0.03555101\n",
      "   0.01379591]\n",
      " [ 0.0208112   0.02242538  0.01604653 ... -0.00702612  0.03561726\n",
      "   0.01436811]\n",
      " [ 0.02125857  0.02753967  0.01507492 ... -0.00677123  0.03544007\n",
      "  -0.00363179]]\n",
      "[[ 0.02275572 -0.01991469  0.00666103 -0.01484282]\n",
      " [ 0.02178885  0.0405121   0.00669636 -0.01608102]\n",
      " [ 0.02660223 -0.01833839  0.00862678 -0.01413102]\n",
      " ...\n",
      " [ 0.02377262  0.01136821  0.01389023 -0.01242102]\n",
      " [ 0.0208112   0.02242538  0.01604653  0.00485811]\n",
      " [ 0.02125857  0.02753967  0.01507492 -0.00263499]]\n"
     ]
    }
   ],
   "source": [
    "print(X_red)\n",
    "X_red_new=np.array([X_red[:,0],X_red[:,1],X_red[:,2],X_red[:,3]])\n",
    "X_red_new=np.transpose(X_red_new)\n",
    "print(X_red_new)\n"
   ]
  },
  {
   "cell_type": "code",
   "execution_count": null,
   "id": "dc950f6e-25d8-4e5d-89fd-b71048421dcc",
   "metadata": {},
   "outputs": [],
   "source": []
  }
 ],
 "metadata": {
  "kernelspec": {
   "display_name": "Python 3 (ipykernel)",
   "language": "python",
   "name": "python3"
  },
  "language_info": {
   "codemirror_mode": {
    "name": "ipython",
    "version": 3
   },
   "file_extension": ".py",
   "mimetype": "text/x-python",
   "name": "python",
   "nbconvert_exporter": "python",
   "pygments_lexer": "ipython3",
   "version": "3.9.12"
  }
 },
 "nbformat": 4,
 "nbformat_minor": 5
}
