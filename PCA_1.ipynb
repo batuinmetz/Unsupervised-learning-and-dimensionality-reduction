{
 "cells": [
  {
   "cell_type": "code",
   "execution_count": 21,
   "id": "20346ab8-f79d-4193-9f34-1eba3c60f0d3",
   "metadata": {},
   "outputs": [
    {
     "name": "stdout",
     "output_type": "stream",
     "text": [
      "variance= 100.00000000000003\n",
      "[32.94305208 25.45293498 11.71535635  8.99784272  5.8795755   5.5717851\n",
      "  3.96025935  2.77885176  2.70034215]\n",
      "[ 32.94305208  58.39598706  70.11134341  79.10918613  84.98876164\n",
      "  90.56054674  94.52080609  97.29965785 100.        ]\n"
     ]
    }
   ],
   "source": [
    "import numpy as np\n",
    "import pandas as pd\n",
    "import matplotlib.pyplot as plt\n",
    "from sklearn import metrics\n",
    "import matplotlib.cm as cm\n",
    "import itertools\n",
    "from scipy import linalg\n",
    "import matplotlib as mpl\n",
    "from sklearn import mixture\n",
    "from sklearn.decomposition import PCA\n",
    "from sklearn.preprocessing import MinMaxScaler\n",
    "\n",
    "#getting the data set\n",
    "data=pd.read_csv('brain_stroke.csv',index_col=0)\n",
    "data.head(-5)\n",
    "#print(data)\n",
    "#print(data.isna().sum())\n",
    "#print(data.info())\n",
    "\n",
    "# Importing LabelEncoder\n",
    "from sklearn.preprocessing import LabelEncoder\n",
    "# Instantiating LabelEncoder\n",
    "le=LabelEncoder()\n",
    "# Iterating over all the values of each column and extract their dtypes\n",
    "for col in data.columns.to_numpy():\n",
    "    # Comparing if the dtype is object\n",
    "    if data[col].dtypes in ('object','category'):\n",
    "    # Using LabelEncoder to do the numeric transformation\n",
    "        data[col]=le.fit_transform(data[col].astype(str))\n",
    "\n",
    "\n",
    "#establishing the training set and the test set\n",
    "X=data.drop([\"stroke\"],axis=1)\n",
    "y=data[\"stroke\"]\n",
    "\n",
    "scaler = MinMaxScaler()\n",
    "X= scaler.fit_transform(X)\n",
    "\n",
    "pca = PCA(n_components=9, random_state=42).fit(X)\n",
    "X_red=pca.transform(X)\n",
    "print(\"variance=\",sum(pca.explained_variance_ratio_)*100)\n",
    "print(pca.explained_variance_ratio_*100)\n",
    "print(np.cumsum(pca.explained_variance_ratio_*100))\n",
    "#print(pca.singular_values_)\n",
    "#X_inv=pca.inverse_transform(X_red)\n",
    "#print(X_inv)"
   ]
  },
  {
   "cell_type": "code",
   "execution_count": null,
   "id": "21c44dad-180d-4d59-b201-7a20ab60b335",
   "metadata": {},
   "outputs": [],
   "source": []
  }
 ],
 "metadata": {
  "kernelspec": {
   "display_name": "Python 3 (ipykernel)",
   "language": "python",
   "name": "python3"
  },
  "language_info": {
   "codemirror_mode": {
    "name": "ipython",
    "version": 3
   },
   "file_extension": ".py",
   "mimetype": "text/x-python",
   "name": "python",
   "nbconvert_exporter": "python",
   "pygments_lexer": "ipython3",
   "version": "3.9.12"
  }
 },
 "nbformat": 4,
 "nbformat_minor": 5
}
