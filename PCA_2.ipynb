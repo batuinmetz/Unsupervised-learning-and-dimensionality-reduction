{
 "cells": [
  {
   "cell_type": "code",
   "execution_count": 4,
   "id": "b25b3981-7723-4695-9cf6-f374d24f3d89",
   "metadata": {},
   "outputs": [
    {
     "name": "stdout",
     "output_type": "stream",
     "text": [
      "variance= 99.99999999999999\n",
      "[22.56796534 16.77504192 13.87496663 13.35443193 12.51957945 11.03516436\n",
      "  7.79757206  1.44194764  0.63333067]\n",
      "[ 22.56796534  39.34300727  53.2179739   66.57240583  79.09198528\n",
      "  90.12714963  97.92472169  99.36666933 100.        ]\n"
     ]
    }
   ],
   "source": [
    "import numpy as np\n",
    "import pandas as pd\n",
    "import matplotlib.pyplot as plt\n",
    "from sklearn import metrics\n",
    "import matplotlib.cm as cm\n",
    "import itertools\n",
    "from scipy import linalg\n",
    "import matplotlib as mpl\n",
    "from sklearn import mixture\n",
    "from sklearn.decomposition import PCA\n",
    "from sklearn.preprocessing import MinMaxScaler\n",
    "\n",
    "##data loaded\n",
    "data=pd.read_csv('chocolate_bars.csv',index_col=0)\n",
    "data.head(-5)\n",
    "##filing the missing datas\n",
    "#filling the missing tables with the most common ingredients\n",
    "data['ingredients'].fillna(data['ingredients'].mode()[0], inplace=True)\n",
    "data['num_ingredients'].fillna(data['num_ingredients'].mode()[0], inplace=True)\n",
    "#print(data)\n",
    "\n",
    "# Importing LabelEncoder\n",
    "from sklearn.preprocessing import LabelEncoder\n",
    "# Instantiating LabelEncoder\n",
    "le=LabelEncoder()\n",
    "# Iterating over all the values of each column and extract their dtypes\n",
    "for col in data.columns.to_numpy():\n",
    "    # Comparing if the dtype is object\n",
    "    if data[col].dtypes in ('object','category'):\n",
    "    # Using LabelEncoder to do the numeric transformation\n",
    "        data[col]=le.fit_transform(data[col].astype(str))\n",
    "        \n",
    "#Binning the rating column\n",
    "cut_labels = ['really bad', 'bad', 'ok', 'good']\n",
    "cut_bins = [0, 0.99,1.99,2.99,4.0]\n",
    "data['rating'] = pd.cut(data['rating'], bins=cut_bins, labels=cut_labels)\n",
    "\n",
    "\n",
    "#creating the testing and training variables\n",
    "X=data.drop(\"rating\",axis=1)\n",
    "y=data[\"rating\"]\n",
    "\n",
    "# Normalize feature data\n",
    "scaler = MinMaxScaler()\n",
    "X= scaler.fit_transform(X)\n",
    "\n",
    "pca = PCA(n_components=9, random_state=42).fit(X)\n",
    "X_red=pca.transform(X)\n",
    "print(\"variance=\",sum(pca.explained_variance_ratio_)*100)\n",
    "print(pca.explained_variance_ratio_*100)\n",
    "print(np.cumsum(pca.explained_variance_ratio_*100))\n",
    "#print(pca.singular_values_)\n",
    "#X_inv=pca.inverse_transform(X_red)\n",
    "#print(X_inv)"
   ]
  },
  {
   "cell_type": "code",
   "execution_count": null,
   "id": "3b167d99-1d05-423d-a87f-abb1b937f128",
   "metadata": {},
   "outputs": [],
   "source": []
  }
 ],
 "metadata": {
  "kernelspec": {
   "display_name": "Python 3 (ipykernel)",
   "language": "python",
   "name": "python3"
  },
  "language_info": {
   "codemirror_mode": {
    "name": "ipython",
    "version": 3
   },
   "file_extension": ".py",
   "mimetype": "text/x-python",
   "name": "python",
   "nbconvert_exporter": "python",
   "pygments_lexer": "ipython3",
   "version": "3.9.12"
  }
 },
 "nbformat": 4,
 "nbformat_minor": 5
}
